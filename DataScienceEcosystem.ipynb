{
 "cells": [
  {
   "cell_type": "markdown",
   "metadata": {},
   "source": [
    "# Data Science Tools and Ecosystem"
   ]
  },
  {
   "cell_type": "markdown",
   "metadata": {},
   "source": [
    "In this notebook, Data Science Tools and Ecosystem are summarized."
   ]
  },
  {
   "cell_type": "markdown",
   "metadata": {},
   "source": [
    "**Objectives:** \n",
    "\n",
    "- List popular languages for Data Science\n",
    "- Understand key libraries in Python for data manipulation\n",
    "- Learn basic data visualization techniques\n",
    "- Explore machine learning libraries in Python\n",
    "- Understand development environments for Data Science"
   ]
  },
  {
   "cell_type": "markdown",
   "metadata": {},
   "source": [
    "Some of the popular languages that Data Scientists use are:\n",
    "1. Python \n",
    "2. R \n",
    "3. Julia"
   ]
  },
  {
   "cell_type": "markdown",
   "metadata": {},
   "source": [
    "Some of the commonly used libraries used by Data Scientists include:\n",
    "For Python:\n",
    "\n",
    "1. NumPy: Fundamental library for numerical computations and working with arrays.\n",
    "2. andas: Used for data manipulation and analysis, especially with structured data like tables.\n",
    "3. Matplotlib: Basic library for data visualization and plotting.\n",
    "4. Seaborn: Statistical data visualization built on top of Matplotlib.\n",
    "5. Scikit-learn: A comprehensive library for machine learning and data mining.\n",
    "6. TensorFlow: Open-source library for machine learning and deep learning.\n",
    "7. Keras: High-level neural networks API, running on top of TensorFlow.\n",
    "8. PyTorch: Deep learning library for applications such as natural language processing.\n",
    "9. SciPy: Used for scientific and technical computing, particularly in solving mathematical problems.\n",
    "10. NLTK (Natural Language Toolkit): Used for text processing and natural language understanding.\n",
    "11. Statsmodels: For estimating and testing statistical models.\n",
    "\n",
    "For R:\n",
    "\n",
    "1. ggplot2: A powerful data visualization package for creating complex plots.\n",
    "2. dplyr: Used for data manipulation tasks such as filtering, selecting, and transforming data.\n",
    "3. caret: Comprehensive library for machine learning, providing functions to streamline model training and evaluation.\n",
    "4. tidyr: Helps tidy up datasets, making them easier to analyze.\n",
    "5. Shiny: Allows you to create interactive web apps directly from R.\n",
    "6. randomForest: Used for classification and regression tasks using the Random Forest algorithm.\n",
    "7. lubridate: Simplifies working with dates and times.\n",
    "8. XGBoost: An efficient and scalable implementation of the gradient boosting algorithm.\n",
    "9. stringr: Useful for string manipulation tasks.\n",
    "10. plotly: Allows for interactive visualizations."
   ]
  },
  {
   "cell_type": "markdown",
   "metadata": {},
   "source": [
    "| Data Science Tools |\n",
    "|--------------------|\n",
    "| Jupyter Notebook   |\n",
    "| RStudio            |\n",
    "| Apache Zeppelin    |\n"
   ]
  },
  {
   "cell_type": "markdown",
   "metadata": {},
   "source": [
    "### Below are a few examples of evaluating arithmetic expressions in Python."
   ]
  },
  {
   "cell_type": "code",
   "execution_count": 3,
   "metadata": {},
   "outputs": [
    {
     "data": {
      "text/plain": [
       "17"
      ]
     },
     "execution_count": 3,
     "metadata": {},
     "output_type": "execute_result"
    }
   ],
   "source": [
    "#  This a simple arithmetic expression to mutiply then add integers\n",
    "\n",
    "(3*4)+5"
   ]
  },
  {
   "cell_type": "code",
   "execution_count": 4,
   "metadata": {},
   "outputs": [
    {
     "name": "stdout",
     "output_type": "stream",
     "text": [
      "3.3333333333333335\n"
     ]
    }
   ],
   "source": [
    "#This will convert 200 minutes to hours by diving by 60\n",
    "\n",
    "t_min = 200\n",
    "t_hours = t_min / 60 \n",
    "print (t_hours)"
   ]
  },
  {
   "cell_type": "markdown",
   "metadata": {},
   "source": [
    "## Author: Omnia Ehab"
   ]
  }
 ],
 "metadata": {
  "kernelspec": {
   "display_name": "Python 3",
   "language": "python",
   "name": "python3"
  },
  "language_info": {
   "codemirror_mode": {
    "name": "ipython",
    "version": 3
   },
   "file_extension": ".py",
   "mimetype": "text/x-python",
   "name": "python",
   "nbconvert_exporter": "python",
   "pygments_lexer": "ipython3",
   "version": "3.12.3"
  }
 },
 "nbformat": 4,
 "nbformat_minor": 2
}
